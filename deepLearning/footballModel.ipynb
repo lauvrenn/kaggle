{
 "nbformat": 4,
 "nbformat_minor": 2,
 "metadata": {
  "language_info": {
   "name": "python",
   "codemirror_mode": {
    "name": "ipython",
    "version": 3
   },
   "version": "3.7.0"
  },
  "orig_nbformat": 2,
  "file_extension": ".py",
  "mimetype": "text/x-python",
  "name": "python",
  "npconvert_exporter": "python",
  "pygments_lexer": "ipython3",
  "version": 3
 },
 "cells": [
  {
   "cell_type": "code",
   "execution_count": 58,
   "metadata": {},
   "outputs": [],
   "source": [
    "# weighted sum = dot product\n",
    "def weighted_sum(a, b):\n",
    "    assert(len(a) == len(b))\n",
    "    output = 0\n",
    "    for i in range(len(a)):\n",
    "        output += (a[i] * b[i])\n",
    "    return output"
   ]
  },
  {
   "cell_type": "code",
   "execution_count": 57,
   "metadata": {},
   "outputs": [],
   "source": [
    "weights = [0.1, 0.2, 0]\n",
    "def neural_network(input, weights):\n",
    "    prediction = weighted_sum(input, weights)\n",
    "    return prediction"
   ]
  },
  {
   "cell_type": "code",
   "execution_count": 59,
   "metadata": {},
   "outputs": [
    {
     "name": "stdout",
     "output_type": "stream",
     "text": "0.98\n"
    }
   ],
   "source": [
    "noofpoints = [8.5, 9.5, 10, 9]\n",
    "# percentage\n",
    "games_won = [0.65, 0.8, 0.8, 0.9]\n",
    "# in millions\n",
    "nooffans = [1.2, 1.3, 0.5, 1.0]\n",
    "\n",
    "input = [noofpoints[0], games_won[0], nooffans[0]]\n",
    "pred = neural_network(input, weights)\n",
    "print(round(pred, 2))"
   ]
  }
 ]
}