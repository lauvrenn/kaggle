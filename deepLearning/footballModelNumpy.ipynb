{
 "nbformat": 4,
 "nbformat_minor": 2,
 "metadata": {
  "language_info": {
   "name": "python",
   "codemirror_mode": {
    "name": "ipython",
    "version": 3
   }
  },
  "orig_nbformat": 2,
  "file_extension": ".py",
  "mimetype": "text/x-python",
  "name": "python",
  "npconvert_exporter": "python",
  "pygments_lexer": "ipython3",
  "version": 3
 },
 "cells": [
  {
   "cell_type": "code",
   "execution_count": null,
   "metadata": {},
   "outputs": [],
   "source": [
    "import numpy as np\n",
    "weights = np.array([0.1, 0.2, 0])\n",
    "def neural_network(input, weights):\n",
    "    prediction = input.dot(weights)\n",
    "    return prediction"
   ]
  },
  {
   "cell_type": "code",
   "execution_count": null,
   "metadata": {},
   "outputs": [],
   "source": [
    "noofpoints = np.array([8.5, 9.5, 10, 9])\n",
    "# percentage\n",
    "games_won = np.array([0.65, 0.8, 0.8, 0.9])\n",
    "# in millions\n",
    "nooffans = np.array([1.2, 1.3, 0.5, 1.0])\n",
    "\n",
    "input = np.array([noofpoints[0], games_won[0], nooffans[0]])\n",
    "pred = neural_network(input, weights)\n",
    "print(round(pred, 2))"
   ]
  }
 ]
}