{
 "nbformat": 4,
 "nbformat_minor": 2,
 "metadata": {
  "language_info": {
   "name": "python",
   "codemirror_mode": {
    "name": "ipython",
    "version": 3
   },
   "version": "3.7.0"
  },
  "orig_nbformat": 2,
  "file_extension": ".py",
  "mimetype": "text/x-python",
  "name": "python",
  "npconvert_exporter": "python",
  "pygments_lexer": "ipython3",
  "version": 3
 },
 "cells": [
  {
   "cell_type": "code",
   "execution_count": 6,
   "metadata": {},
   "outputs": [],
   "source": [
    "noofpoints = [8.5, 9.5, 10, 9]\n",
    "nooffans = [1.2, 1.3, 0.5, 1.0]\n",
    "def elementwise_addition(vec_a, vec_b):\n",
    "    assert(len(vec_a) == len(vec_b))\n",
    "    vec_c = []\n",
    "    for i in range(len(vec_a)):\n",
    "        vec_c.append(vec_a[i] + vec_b[i])\n",
    "    return vec_c"
   ]
  },
  {
   "cell_type": "code",
   "execution_count": 7,
   "metadata": {},
   "outputs": [],
   "source": [
    "def vector_sum(vec_a):\n",
    "    output = 0\n",
    "    for i in range(len(vec_a)):\n",
    "        output += vec_a[i]\n",
    "    return output\n",
    "def vector_avg(vec_a):\n",
    "    sum = vector_sum(vec_a)\n",
    "    avg = sum/len(vec_a)\n",
    "    return avg"
   ]
  },
  {
   "cell_type": "code",
   "execution_count": 8,
   "metadata": {},
   "outputs": [
    {
     "name": "stdout",
     "output_type": "stream",
     "text": "[9.7, 10.8, 10.5, 10.0]\n37.0\n9.25\n"
    }
   ],
   "source": [
    "print(elementwise_addition(noofpoints, nooffans))\n",
    "print(vector_sum(noofpoints))\n",
    "print(vector_avg(noofpoints))"
   ]
  },
  {
   "cell_type": "code",
   "execution_count": null,
   "metadata": {},
   "outputs": [],
   "source": []
  }
 ]
}